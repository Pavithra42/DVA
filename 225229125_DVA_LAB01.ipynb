{
 "cells": [
  {
   "cell_type": "markdown",
   "id": "8ab35986",
   "metadata": {},
   "source": [
    "Name:Pavithra S\n",
    "Roll no:225229125"
   ]
  },
  {
   "cell_type": "markdown",
   "id": "617736ba",
   "metadata": {},
   "source": [
    "# Red Wine Quality Data Analysis using Numpy Part-I"
   ]
  },
  {
   "cell_type": "markdown",
   "id": "66f28cfb",
   "metadata": {},
   "source": [
    "# Import modules for numpy"
   ]
  },
  {
   "cell_type": "code",
   "execution_count": 1,
   "id": "f72ad4c3",
   "metadata": {},
   "outputs": [],
   "source": [
    "import numpy as np"
   ]
  },
  {
   "cell_type": "code",
   "execution_count": 4,
   "id": "b12da4c9",
   "metadata": {},
   "outputs": [],
   "source": [
    "wines=np.genfromtxt(\"winequality-red.csv\",delimiter=\";\",skip_header=1)\n"
   ]
  },
  {
   "cell_type": "markdown",
   "id": "3f8fd624",
   "metadata": {},
   "source": [
    "# what is its shape"
   ]
  },
  {
   "cell_type": "code",
   "execution_count": 5,
   "id": "42d707f8",
   "metadata": {},
   "outputs": [
    {
     "data": {
      "text/plain": [
       "(1599, 12)"
      ]
     },
     "execution_count": 5,
     "metadata": {},
     "output_type": "execute_result"
    }
   ],
   "source": [
    "wines.shape"
   ]
  },
  {
   "cell_type": "markdown",
   "id": "6c0221c9",
   "metadata": {},
   "source": [
    "# How Many Rows here?"
   ]
  },
  {
   "cell_type": "code",
   "execution_count": 6,
   "id": "f6b33ed0",
   "metadata": {},
   "outputs": [
    {
     "data": {
      "text/plain": [
       "1599"
      ]
     },
     "execution_count": 6,
     "metadata": {},
     "output_type": "execute_result"
    }
   ],
   "source": [
    "wines.shape[0]"
   ]
  },
  {
   "cell_type": "markdown",
   "id": "d849addf",
   "metadata": {},
   "source": [
    "# How Many Columns here?"
   ]
  },
  {
   "cell_type": "code",
   "execution_count": 7,
   "id": "d7e86211",
   "metadata": {},
   "outputs": [
    {
     "data": {
      "text/plain": [
       "12"
      ]
     },
     "execution_count": 7,
     "metadata": {},
     "output_type": "execute_result"
    }
   ],
   "source": [
    "wines.shape[1]"
   ]
  },
  {
   "cell_type": "markdown",
   "id": "4c72639a",
   "metadata": {},
   "source": [
    "# How Many dimension?"
   ]
  },
  {
   "cell_type": "code",
   "execution_count": 8,
   "id": "0ff64082",
   "metadata": {},
   "outputs": [
    {
     "data": {
      "text/plain": [
       "2"
      ]
     },
     "execution_count": 8,
     "metadata": {},
     "output_type": "execute_result"
    }
   ],
   "source": [
    "wines.ndim"
   ]
  },
  {
   "cell_type": "markdown",
   "id": "b606404c",
   "metadata": {},
   "source": [
    "# What  is the Type of wines?"
   ]
  },
  {
   "cell_type": "code",
   "execution_count": 9,
   "id": "4fe41ec5",
   "metadata": {},
   "outputs": [
    {
     "data": {
      "text/plain": [
       "numpy.ndarray"
      ]
     },
     "execution_count": 9,
     "metadata": {},
     "output_type": "execute_result"
    }
   ],
   "source": [
    "type(wines)"
   ]
  },
  {
   "cell_type": "markdown",
   "id": "bf99ec90",
   "metadata": {},
   "source": [
    "# What is the data type of wines data?"
   ]
  },
  {
   "cell_type": "code",
   "execution_count": 10,
   "id": "1b09139b",
   "metadata": {},
   "outputs": [
    {
     "data": {
      "text/plain": [
       "dtype('float64')"
      ]
     },
     "execution_count": 10,
     "metadata": {},
     "output_type": "execute_result"
    }
   ],
   "source": [
    "wines.dtype"
   ]
  },
  {
   "cell_type": "markdown",
   "id": "724c5861",
   "metadata": {},
   "source": [
    "# show top 5 rows"
   ]
  },
  {
   "cell_type": "code",
   "execution_count": 13,
   "id": "621c67ad",
   "metadata": {},
   "outputs": [],
   "source": [
    "#wines[:5,:]"
   ]
  },
  {
   "cell_type": "markdown",
   "id": "59f44adc",
   "metadata": {},
   "source": [
    "# What is the value at 3 row 4th column of wine data"
   ]
  },
  {
   "cell_type": "code",
   "execution_count": 14,
   "id": "ac48cbb5",
   "metadata": {},
   "outputs": [
    {
     "data": {
      "text/plain": [
       "2.3"
      ]
     },
     "execution_count": 14,
     "metadata": {},
     "output_type": "execute_result"
    }
   ],
   "source": [
    "wines[2,3]"
   ]
  },
  {
   "cell_type": "markdown",
   "id": "de4eb13a",
   "metadata": {},
   "source": [
    "# Select first 3 items in 4th column"
   ]
  },
  {
   "cell_type": "code",
   "execution_count": 15,
   "id": "def8540c",
   "metadata": {},
   "outputs": [
    {
     "data": {
      "text/plain": [
       "array([1.9, 2.6, 2.3])"
      ]
     },
     "execution_count": 15,
     "metadata": {},
     "output_type": "execute_result"
    }
   ],
   "source": [
    "wines[:3,3]"
   ]
  },
  {
   "cell_type": "markdown",
   "id": "cc5ffd76",
   "metadata": {},
   "source": [
    "# Show 1st Column"
   ]
  },
  {
   "cell_type": "code",
   "execution_count": 16,
   "id": "aa285806",
   "metadata": {},
   "outputs": [
    {
     "data": {
      "text/plain": [
       "array([7.4, 7.8, 7.8, ..., 6.3, 5.9, 6. ])"
      ]
     },
     "execution_count": 16,
     "metadata": {},
     "output_type": "execute_result"
    }
   ],
   "source": [
    "wines[:,0]"
   ]
  },
  {
   "cell_type": "markdown",
   "id": "d7e3477f",
   "metadata": {},
   "source": [
    "# show 2nd row"
   ]
  },
  {
   "cell_type": "code",
   "execution_count": 18,
   "id": "f0c0503a",
   "metadata": {},
   "outputs": [
    {
     "data": {
      "text/plain": [
       "array([ 7.8   ,  0.88  ,  0.    ,  2.6   ,  0.098 , 25.    , 67.    ,\n",
       "        0.9968,  3.2   ,  0.68  ,  9.8   ,  5.    ])"
      ]
     },
     "execution_count": 18,
     "metadata": {},
     "output_type": "execute_result"
    }
   ],
   "source": [
    "wines[1,:]"
   ]
  },
  {
   "cell_type": "markdown",
   "id": "5a5eb4a4",
   "metadata": {},
   "source": [
    "# Select items from rows 1 to3 and 5 th column"
   ]
  },
  {
   "cell_type": "code",
   "execution_count": 19,
   "id": "10ab21fc",
   "metadata": {},
   "outputs": [
    {
     "data": {
      "text/plain": [
       "array([0.098, 0.092, 0.075])"
      ]
     },
     "execution_count": 19,
     "metadata": {},
     "output_type": "execute_result"
    }
   ],
   "source": [
    "wines[1:4,4]"
   ]
  },
  {
   "cell_type": "markdown",
   "id": "3e876217",
   "metadata": {},
   "source": [
    "# Select entire Array"
   ]
  },
  {
   "cell_type": "code",
   "execution_count": 20,
   "id": "9f1cc55a",
   "metadata": {},
   "outputs": [
    {
     "data": {
      "text/plain": [
       "array([[ 7.4  ,  0.7  ,  0.   , ...,  0.56 ,  9.4  ,  5.   ],\n",
       "       [ 7.8  ,  0.88 ,  0.   , ...,  0.68 ,  9.8  ,  5.   ],\n",
       "       [ 7.8  ,  0.76 ,  0.04 , ...,  0.65 ,  9.8  ,  5.   ],\n",
       "       ...,\n",
       "       [ 6.3  ,  0.51 ,  0.13 , ...,  0.75 , 11.   ,  6.   ],\n",
       "       [ 5.9  ,  0.645,  0.12 , ...,  0.71 , 10.2  ,  5.   ],\n",
       "       [ 6.   ,  0.31 ,  0.47 , ...,  0.66 , 11.   ,  6.   ]])"
      ]
     },
     "execution_count": 20,
     "metadata": {},
     "output_type": "execute_result"
    }
   ],
   "source": [
    "wines[:,:]"
   ]
  },
  {
   "cell_type": "markdown",
   "id": "17f74d08",
   "metadata": {},
   "source": [
    "# Change 1st value in wines to 100"
   ]
  },
  {
   "cell_type": "code",
   "execution_count": 21,
   "id": "79ab8907",
   "metadata": {},
   "outputs": [
    {
     "data": {
      "text/plain": [
       "7.4"
      ]
     },
     "execution_count": 21,
     "metadata": {},
     "output_type": "execute_result"
    }
   ],
   "source": [
    "wines[0,0]"
   ]
  },
  {
   "cell_type": "code",
   "execution_count": 22,
   "id": "2d4c61ae",
   "metadata": {},
   "outputs": [
    {
     "data": {
      "text/plain": [
       "100.0"
      ]
     },
     "execution_count": 22,
     "metadata": {},
     "output_type": "execute_result"
    }
   ],
   "source": [
    "wines[0,0]=100\n",
    "wines[0,0]"
   ]
  },
  {
   "cell_type": "code",
   "execution_count": 23,
   "id": "462d175a",
   "metadata": {},
   "outputs": [],
   "source": [
    "#change it back to 7.4 and print"
   ]
  },
  {
   "cell_type": "code",
   "execution_count": 24,
   "id": "f77282f4",
   "metadata": {},
   "outputs": [],
   "source": [
    "wines[0,0]=7.4"
   ]
  },
  {
   "cell_type": "code",
   "execution_count": 25,
   "id": "0b362e0d",
   "metadata": {},
   "outputs": [
    {
     "name": "stdout",
     "output_type": "stream",
     "text": [
      "7.4\n"
     ]
    }
   ],
   "source": [
    "print(wines[0,0])"
   ]
  },
  {
   "cell_type": "markdown",
   "id": "1e68dad5",
   "metadata": {},
   "source": [
    "# 1-Dimensional Numpy Array"
   ]
  },
  {
   "cell_type": "markdown",
   "id": "925939fe",
   "metadata": {},
   "source": [
    "# Select 4th row all column values"
   ]
  },
  {
   "cell_type": "code",
   "execution_count": 27,
   "id": "48b911da",
   "metadata": {},
   "outputs": [],
   "source": [
    "third_wines=wines[3,:]"
   ]
  },
  {
   "cell_type": "markdown",
   "id": "5a4440e3",
   "metadata": {},
   "source": [
    "# display the value"
   ]
  },
  {
   "cell_type": "code",
   "execution_count": 29,
   "id": "50894a58",
   "metadata": {},
   "outputs": [
    {
     "data": {
      "text/plain": [
       "array([11.2  ,  0.28 ,  0.56 ,  1.9  ,  0.075, 17.   , 60.   ,  0.998,\n",
       "        3.16 ,  0.58 ,  9.8  ,  6.   ])"
      ]
     },
     "execution_count": 29,
     "metadata": {},
     "output_type": "execute_result"
    }
   ],
   "source": [
    "third_wines"
   ]
  },
  {
   "cell_type": "markdown",
   "id": "cb784b28",
   "metadata": {},
   "source": [
    "# show 2nd value"
   ]
  },
  {
   "cell_type": "code",
   "execution_count": 31,
   "id": "70bb1fe0",
   "metadata": {},
   "outputs": [
    {
     "data": {
      "text/plain": [
       "0.28"
      ]
     },
     "execution_count": 31,
     "metadata": {},
     "output_type": "execute_result"
    }
   ],
   "source": [
    "third_wines[1]"
   ]
  },
  {
   "cell_type": "markdown",
   "id": "706820ec",
   "metadata": {},
   "source": [
    "# Convert wine data to integer values and show it"
   ]
  },
  {
   "cell_type": "code",
   "execution_count": 32,
   "id": "0ff6e9eb",
   "metadata": {},
   "outputs": [
    {
     "data": {
      "text/plain": [
       "array([[ 7,  0,  0, ...,  0,  9,  5],\n",
       "       [ 7,  0,  0, ...,  0,  9,  5],\n",
       "       [ 7,  0,  0, ...,  0,  9,  5],\n",
       "       ...,\n",
       "       [ 6,  0,  0, ...,  0, 11,  6],\n",
       "       [ 5,  0,  0, ...,  0, 10,  5],\n",
       "       [ 6,  0,  0, ...,  0, 11,  6]])"
      ]
     },
     "execution_count": 32,
     "metadata": {},
     "output_type": "execute_result"
    }
   ],
   "source": [
    "wines.astype(int)"
   ]
  },
  {
   "cell_type": "markdown",
   "id": "9804b34b",
   "metadata": {},
   "source": [
    "# Vectorization Operation"
   ]
  },
  {
   "cell_type": "markdown",
   "id": "048d882c",
   "metadata": {},
   "source": [
    "# Increase  wine quality score By 10"
   ]
  },
  {
   "cell_type": "code",
   "execution_count": 33,
   "id": "1fadb5ea",
   "metadata": {},
   "outputs": [
    {
     "data": {
      "text/plain": [
       "array([5., 5., 5., ..., 6., 5., 6.])"
      ]
     },
     "execution_count": 33,
     "metadata": {},
     "output_type": "execute_result"
    }
   ],
   "source": [
    "wines[:,11]"
   ]
  },
  {
   "cell_type": "markdown",
   "id": "646890d9",
   "metadata": {},
   "source": [
    "# Increase By 10"
   ]
  },
  {
   "cell_type": "code",
   "execution_count": 34,
   "id": "d50c2926",
   "metadata": {},
   "outputs": [],
   "source": [
    "wines[:,11]+=10"
   ]
  },
  {
   "cell_type": "markdown",
   "id": "325d4593",
   "metadata": {},
   "source": [
    "# Display update score"
   ]
  },
  {
   "cell_type": "code",
   "execution_count": 35,
   "id": "004c061b",
   "metadata": {},
   "outputs": [
    {
     "data": {
      "text/plain": [
       "array([ 9.4,  9.8,  9.8, ..., 11. , 10.2, 11. ])"
      ]
     },
     "execution_count": 35,
     "metadata": {},
     "output_type": "execute_result"
    }
   ],
   "source": [
    "wines[:,10]"
   ]
  },
  {
   "cell_type": "markdown",
   "id": "cf897cf9",
   "metadata": {},
   "source": [
    "# Mutliply alcohol of all wines data by 3 times"
   ]
  },
  {
   "cell_type": "code",
   "execution_count": 37,
   "id": "f0efd27e",
   "metadata": {},
   "outputs": [],
   "source": [
    "wines[:,10]*=3"
   ]
  },
  {
   "cell_type": "markdown",
   "id": "1f6de88e",
   "metadata": {},
   "source": [
    "# Show update alcohol column"
   ]
  },
  {
   "cell_type": "code",
   "execution_count": 38,
   "id": "085b8ece",
   "metadata": {},
   "outputs": [
    {
     "data": {
      "text/plain": [
       "array([28.2, 29.4, 29.4, ..., 33. , 30.6, 33. ])"
      ]
     },
     "execution_count": 38,
     "metadata": {},
     "output_type": "execute_result"
    }
   ],
   "source": [
    "wines[:,10]"
   ]
  },
  {
   "cell_type": "markdown",
   "id": "501574a9",
   "metadata": {},
   "source": [
    "# Add Quality column by itself"
   ]
  },
  {
   "cell_type": "code",
   "execution_count": 40,
   "id": "59009394",
   "metadata": {},
   "outputs": [
    {
     "data": {
      "text/plain": [
       "array([30., 30., 30., ..., 32., 30., 32.])"
      ]
     },
     "execution_count": 40,
     "metadata": {},
     "output_type": "execute_result"
    }
   ],
   "source": [
    "wines[:,11]+wines[:,11]"
   ]
  },
  {
   "cell_type": "markdown",
   "id": "4177ca36",
   "metadata": {},
   "source": [
    "# Multiply alcohol and quantity .It will Perform element wise multiplication"
   ]
  },
  {
   "cell_type": "code",
   "execution_count": 43,
   "id": "4fddbb19",
   "metadata": {},
   "outputs": [
    {
     "data": {
      "text/plain": [
       "array([423., 441., 441., ..., 528., 459., 528.])"
      ]
     },
     "execution_count": 43,
     "metadata": {},
     "output_type": "execute_result"
    }
   ],
   "source": [
    "wines[:,10]*wines[:,11]"
   ]
  },
  {
   "cell_type": "markdown",
   "id": "c286c6a7",
   "metadata": {},
   "source": [
    "# Broadcasting"
   ]
  },
  {
   "cell_type": "markdown",
   "id": "5fb1e96f",
   "metadata": {},
   "source": [
    "# Add every row of wines data with a random array of values\n"
   ]
  },
  {
   "cell_type": "code",
   "execution_count": 44,
   "id": "5635f893",
   "metadata": {},
   "outputs": [],
   "source": [
    "rand_array=np.random.rand(12)"
   ]
  },
  {
   "cell_type": "markdown",
   "id": "284b5cc9",
   "metadata": {},
   "source": [
    "# Show rand_array"
   ]
  },
  {
   "cell_type": "code",
   "execution_count": 45,
   "id": "dd52ab1e",
   "metadata": {},
   "outputs": [
    {
     "data": {
      "text/plain": [
       "array([0.79294536, 0.58532392, 0.2127691 , 0.05354873, 0.2275005 ,\n",
       "       0.59330834, 0.53676124, 0.73236886, 0.65993543, 0.47644021,\n",
       "       0.51051626, 0.22993429])"
      ]
     },
     "execution_count": 45,
     "metadata": {},
     "output_type": "execute_result"
    }
   ],
   "source": [
    "rand_array"
   ]
  },
  {
   "cell_type": "markdown",
   "id": "56d7c6a9",
   "metadata": {},
   "source": [
    "# Add wines and rand_array"
   ]
  },
  {
   "cell_type": "code",
   "execution_count": 46,
   "id": "3c4d5503",
   "metadata": {},
   "outputs": [
    {
     "data": {
      "text/plain": [
       "array([[ 8.19294536,  1.28532392,  0.2127691 , ...,  1.03644021,\n",
       "        28.71051626, 15.22993429],\n",
       "       [ 8.59294536,  1.46532392,  0.2127691 , ...,  1.15644021,\n",
       "        29.91051626, 15.22993429],\n",
       "       [ 8.59294536,  1.34532392,  0.2527691 , ...,  1.12644021,\n",
       "        29.91051626, 15.22993429],\n",
       "       ...,\n",
       "       [ 7.09294536,  1.09532392,  0.3427691 , ...,  1.22644021,\n",
       "        33.51051626, 16.22993429],\n",
       "       [ 6.69294536,  1.23032392,  0.3327691 , ...,  1.18644021,\n",
       "        31.11051626, 15.22993429],\n",
       "       [ 6.79294536,  0.89532392,  0.6827691 , ...,  1.13644021,\n",
       "        33.51051626, 16.22993429]])"
      ]
     },
     "execution_count": 46,
     "metadata": {},
     "output_type": "execute_result"
    }
   ],
   "source": [
    "wines+rand_array"
   ]
  },
  {
   "cell_type": "code",
   "execution_count": null,
   "id": "d3dc667e",
   "metadata": {},
   "outputs": [],
   "source": []
  }
 ],
 "metadata": {
  "kernelspec": {
   "display_name": "Python 3 (ipykernel)",
   "language": "python",
   "name": "python3"
  },
  "language_info": {
   "codemirror_mode": {
    "name": "ipython",
    "version": 3
   },
   "file_extension": ".py",
   "mimetype": "text/x-python",
   "name": "python",
   "nbconvert_exporter": "python",
   "pygments_lexer": "ipython3",
   "version": "3.9.12"
  }
 },
 "nbformat": 4,
 "nbformat_minor": 5
}
