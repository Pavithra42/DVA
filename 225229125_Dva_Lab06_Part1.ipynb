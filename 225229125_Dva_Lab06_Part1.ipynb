{
 "cells": [
  {
   "cell_type": "markdown",
   "metadata": {},
   "source": [
    "# DVA_Lab 01_NumPy Basics Roll:no:225229106\n"
   ]
  },
  {
   "cell_type": "markdown",
   "metadata": {},
   "source": [
    "# 1)Add the np import directive to the numpy package"
   ]
  },
  {
   "cell_type": "code",
   "execution_count": 9,
   "metadata": {},
   "outputs": [],
   "source": [
    "import numpy as np"
   ]
  },
  {
   "cell_type": "markdown",
   "metadata": {},
   "source": [
    "# 2)Publish the configuration and the numpy version"
   ]
  },
  {
   "cell_type": "code",
   "execution_count": 2,
   "metadata": {},
   "outputs": [
    {
     "name": "stdout",
     "output_type": "stream",
     "text": [
      "NumPy Version :  1.14.0\n",
      "mkl_info:\n",
      "    libraries = ['mkl_rt']\n",
      "    library_dirs = ['C:/Program Files (x86)/Microsoft Visual Studio/Shared/Anaconda3_64\\\\Library\\\\lib']\n",
      "    define_macros = [('SCIPY_MKL_H', None), ('HAVE_CBLAS', None)]\n",
      "    include_dirs = ['C:\\\\Program Files (x86)\\\\IntelSWTools\\\\compilers_and_libraries_2016.4.246\\\\windows\\\\mkl', 'C:\\\\Program Files (x86)\\\\IntelSWTools\\\\compilers_and_libraries_2016.4.246\\\\windows\\\\mkl\\\\include', 'C:\\\\Program Files (x86)\\\\IntelSWTools\\\\compilers_and_libraries_2016.4.246\\\\windows\\\\mkl\\\\lib', 'C:/Program Files (x86)/Microsoft Visual Studio/Shared/Anaconda3_64\\\\Library\\\\include']\n",
      "blas_mkl_info:\n",
      "    libraries = ['mkl_rt']\n",
      "    library_dirs = ['C:/Program Files (x86)/Microsoft Visual Studio/Shared/Anaconda3_64\\\\Library\\\\lib']\n",
      "    define_macros = [('SCIPY_MKL_H', None), ('HAVE_CBLAS', None)]\n",
      "    include_dirs = ['C:\\\\Program Files (x86)\\\\IntelSWTools\\\\compilers_and_libraries_2016.4.246\\\\windows\\\\mkl', 'C:\\\\Program Files (x86)\\\\IntelSWTools\\\\compilers_and_libraries_2016.4.246\\\\windows\\\\mkl\\\\include', 'C:\\\\Program Files (x86)\\\\IntelSWTools\\\\compilers_and_libraries_2016.4.246\\\\windows\\\\mkl\\\\lib', 'C:/Program Files (x86)/Microsoft Visual Studio/Shared/Anaconda3_64\\\\Library\\\\include']\n",
      "blas_opt_info:\n",
      "    libraries = ['mkl_rt']\n",
      "    library_dirs = ['C:/Program Files (x86)/Microsoft Visual Studio/Shared/Anaconda3_64\\\\Library\\\\lib']\n",
      "    define_macros = [('SCIPY_MKL_H', None), ('HAVE_CBLAS', None)]\n",
      "    include_dirs = ['C:\\\\Program Files (x86)\\\\IntelSWTools\\\\compilers_and_libraries_2016.4.246\\\\windows\\\\mkl', 'C:\\\\Program Files (x86)\\\\IntelSWTools\\\\compilers_and_libraries_2016.4.246\\\\windows\\\\mkl\\\\include', 'C:\\\\Program Files (x86)\\\\IntelSWTools\\\\compilers_and_libraries_2016.4.246\\\\windows\\\\mkl\\\\lib', 'C:/Program Files (x86)/Microsoft Visual Studio/Shared/Anaconda3_64\\\\Library\\\\include']\n",
      "lapack_mkl_info:\n",
      "    libraries = ['mkl_rt']\n",
      "    library_dirs = ['C:/Program Files (x86)/Microsoft Visual Studio/Shared/Anaconda3_64\\\\Library\\\\lib']\n",
      "    define_macros = [('SCIPY_MKL_H', None), ('HAVE_CBLAS', None)]\n",
      "    include_dirs = ['C:\\\\Program Files (x86)\\\\IntelSWTools\\\\compilers_and_libraries_2016.4.246\\\\windows\\\\mkl', 'C:\\\\Program Files (x86)\\\\IntelSWTools\\\\compilers_and_libraries_2016.4.246\\\\windows\\\\mkl\\\\include', 'C:\\\\Program Files (x86)\\\\IntelSWTools\\\\compilers_and_libraries_2016.4.246\\\\windows\\\\mkl\\\\lib', 'C:/Program Files (x86)/Microsoft Visual Studio/Shared/Anaconda3_64\\\\Library\\\\include']\n",
      "lapack_opt_info:\n",
      "    libraries = ['mkl_rt']\n",
      "    library_dirs = ['C:/Program Files (x86)/Microsoft Visual Studio/Shared/Anaconda3_64\\\\Library\\\\lib']\n",
      "    define_macros = [('SCIPY_MKL_H', None), ('HAVE_CBLAS', None)]\n",
      "    include_dirs = ['C:\\\\Program Files (x86)\\\\IntelSWTools\\\\compilers_and_libraries_2016.4.246\\\\windows\\\\mkl', 'C:\\\\Program Files (x86)\\\\IntelSWTools\\\\compilers_and_libraries_2016.4.246\\\\windows\\\\mkl\\\\include', 'C:\\\\Program Files (x86)\\\\IntelSWTools\\\\compilers_and_libraries_2016.4.246\\\\windows\\\\mkl\\\\lib', 'C:/Program Files (x86)/Microsoft Visual Studio/Shared/Anaconda3_64\\\\Library\\\\include']\n",
      "None\n"
     ]
    }
   ],
   "source": [
    "print(\"NumPy Version : \",np.__version__)\n",
    "print(np.show_config())\n"
   ]
  },
  {
   "cell_type": "markdown",
   "metadata": {},
   "source": [
    "# 3) Make a null vector of 10 bytes."
   ]
  },
  {
   "cell_type": "code",
   "execution_count": 8,
   "metadata": {},
   "outputs": [
    {
     "name": "stdout",
     "output_type": "stream",
     "text": [
      "[0. 0. 0. 0. 0. 0. 0. 0. 0. 0.]\n"
     ]
    }
   ],
   "source": [
    "import numpy as np\n",
    "x = np.zeros(10)\n",
    "print(x)\n"
   ]
  },
  {
   "cell_type": "markdown",
   "metadata": {},
   "source": [
    "# 4)How to determine an array's memory size\n"
   ]
  },
  {
   "cell_type": "code",
   "execution_count": 11,
   "metadata": {},
   "outputs": [
    {
     "name": "stdout",
     "output_type": "stream",
     "text": [
      "Memory size of a NumPy array: 4\n"
     ]
    }
   ],
   "source": [
    "# import library\n",
    "import numpy as np\n",
    "\n",
    "# create numpy 1d-array\n",
    "x = np.array([100, 20, 34])\n",
    "\n",
    "print(\"Memory size of a NumPy array:\",\n",
    "x.itemsize)\n"
   ]
  },
  {
   "cell_type": "markdown",
   "metadata": {},
   "source": [
    "## 5)How can I see the command-line documentation for the numpy add function? Make a 10-dimensional null vector with the fifth valueset to 1 instead.\n"
   ]
  },
  {
   "cell_type": "code",
   "execution_count": 12,
   "metadata": {},
   "outputs": [
    {
     "name": "stdout",
     "output_type": "stream",
     "text": [
      "add(x1, x2, /, out=None, *, where=True, casting='same_kind', order='K', dtype=None, subok=True[, signature, extobj])\n",
      "\n",
      "Add arguments element-wise.\n",
      "\n",
      "Parameters\n",
      "----------\n",
      "x1, x2 : array_like\n",
      "    The arrays to be added.  If ``x1.shape != x2.shape``, they must be\n",
      "    broadcastable to a common shape (which may be the shape of one or\n",
      "    the other).\n",
      "out : ndarray, None, or tuple of ndarray and None, optional\n",
      "    A location into which the result is stored. If provided, it must have\n",
      "    a shape that the inputs broadcast to. If not provided or `None`,\n",
      "    a freshly-allocated array is returned. A tuple (possible only as a\n",
      "    keyword argument) must have length equal to the number of outputs.\n",
      "where : array_like, optional\n",
      "    Values of True indicate to calculate the ufunc at that position, values\n",
      "    of False indicate to leave the value in the output alone.\n",
      "**kwargs\n",
      "    For other keyword-only arguments, see the\n",
      "    :ref:`ufunc docs <ufuncs.kwargs>`.\n",
      "\n",
      "Returns\n",
      "-------\n",
      "add : ndarray or scalar\n",
      "    The sum of `x1` and `x2`, element-wise.  Returns a scalar if\n",
      "    both  `x1` and `x2` are scalars.\n",
      "\n",
      "Notes\n",
      "-----\n",
      "Equivalent to `x1` + `x2` in terms of array broadcasting.\n",
      "\n",
      "Examples\n",
      "--------\n",
      ">>> np.add(1.0, 4.0)\n",
      "5.0\n",
      ">>> x1 = np.arange(9.0).reshape((3, 3))\n",
      ">>> x2 = np.arange(3.0)\n",
      ">>> np.add(x1, x2)\n",
      "array([[  0.,   2.,   4.],\n",
      "       [  3.,   5.,   7.],\n",
      "       [  6.,   8.,  10.]])\n"
     ]
    }
   ],
   "source": [
    "np.info(np.add)"
   ]
  },
  {
   "cell_type": "code",
   "execution_count": 13,
   "metadata": {},
   "outputs": [
    {
     "name": "stdout",
     "output_type": "stream",
     "text": [
      "[0. 0. 0. 0. 1. 0. 0. 0. 0. 0.]\n"
     ]
    }
   ],
   "source": [
    "arr2 = np.zeros(10)\n",
    "arr2[4] = 1\n",
    "print(arr2)"
   ]
  },
  {
   "cell_type": "markdown",
   "metadata": {},
   "source": [
    "# 6)Make a vector containing values in the range of 50 to 99."
   ]
  },
  {
   "cell_type": "code",
   "execution_count": 15,
   "metadata": {},
   "outputs": [
    {
     "name": "stdout",
     "output_type": "stream",
     "text": [
      "[50 51 52 53 54 55 56 57 58 59 60 61 62 63 64 65 66 67 68 69 70 71 72 73\n",
      " 74 75 76 77 78 79 80 81 82 83 84 85 86 87 88 89 90 91 92 93 94 95 96 97\n",
      " 98 99]\n"
     ]
    }
   ],
   "source": [
    "import numpy as np\n",
    "x = np.arange(50,100)\n",
    "print(x)"
   ]
  },
  {
   "cell_type": "markdown",
   "metadata": {},
   "source": [
    "# 7) Transform a vector (first element becomes last)\n"
   ]
  },
  {
   "cell_type": "code",
   "execution_count": 17,
   "metadata": {},
   "outputs": [
    {
     "name": "stdout",
     "output_type": "stream",
     "text": [
      "Original array:\n",
      "[1 2 3 4 5 6 7 8 9]\n",
      "Reverse array:\n",
      "[9 8 7 6 5 4 3 2 1]\n"
     ]
    }
   ],
   "source": [
    "import numpy as np\n",
    "x = np.arange(1,10)\n",
    "print(\"Original array:\")\n",
    "print(x)\n",
    "print(\"Reverse array:\")\n",
    "x = x[::-1]\n",
    "print(x)\n"
   ]
  },
  {
   "cell_type": "markdown",
   "metadata": {},
   "source": [
    "# 8) Make a 4x4 matrix with values from 0 to 16 in it."
   ]
  },
  {
   "cell_type": "code",
   "execution_count": 19,
   "metadata": {},
   "outputs": [
    {
     "name": "stdout",
     "output_type": "stream",
     "text": [
      "Array created using string is :\n",
      " [[ 0  1  2  3]\n",
      " [ 4  5  6  7]\n",
      " [ 8  9 10 11]\n",
      " [12 13 14 15]]\n"
     ]
    }
   ],
   "source": [
    "import numpy as np\n",
    "#creating matrix from string\n",
    "A = np.matrix('0 1 2 3;4 5 6 7;8 9 10 11;12 13 14 15')\n",
    "print(\"Array created using string is :\\n\", A)"
   ]
  },
  {
   "cell_type": "markdown",
   "metadata": {},
   "source": [
    "# 9)Search for non-zero element indices in the range [1,2,0,0,4,0]."
   ]
  },
  {
   "cell_type": "code",
   "execution_count": 24,
   "metadata": {},
   "outputs": [
    {
     "name": "stdout",
     "output_type": "stream",
     "text": [
      "Input array : \n",
      " [1 2 0 0 4 0]\n",
      "Indices of non zero elements :  (array([0, 1, 4], dtype=int64),)\n",
      "Output array of non-zero number:  [1 2 4]\n"
     ]
    }
   ],
   "source": [
    "# Python program explaining\n",
    "# nonzero() function\n",
    "import numpy as geek\n",
    "arr = geek.array([1,2,0,0,4,0])\n",
    "print (\"Input array : \\n\", arr)\n",
    "out_tpl = geek.nonzero(arr)\n",
    "print (\"Indices of non zero elements : \", out_tpl)\n",
    "# Python program for getting\n",
    "# The corresponding non-zero values:\n",
    "out_arr = arr[geek.nonzero(arr)]\n",
    "\n",
    "print (\"Output array of non-zero number: \", out_arr)\n"
   ]
  },
  {
   "cell_type": "markdown",
   "metadata": {},
   "source": [
    "# 10)Construct a 4 by 4 identity matrix."
   ]
  },
  {
   "cell_type": "code",
   "execution_count": 25,
   "metadata": {},
   "outputs": [
    {
     "name": "stdout",
     "output_type": "stream",
     "text": [
      "[[1 0 0 0]\n",
      " [0 1 0 0]\n",
      " [0 0 1 0]\n",
      " [0 0 0 1]]\n"
     ]
    }
   ],
   "source": [
    "import numpy as np\n",
    "\n",
    "matrix_int = np.identity(4, dtype = int)\n",
    "print(matrix_int)"
   ]
  },
  {
   "cell_type": "markdown",
   "metadata": {},
   "source": [
    "# 11)Build a 4x4x4 array with arbitrary values."
   ]
  },
  {
   "cell_type": "code",
   "execution_count": 26,
   "metadata": {},
   "outputs": [
    {
     "name": "stdout",
     "output_type": "stream",
     "text": [
      "[[[0.77046314 0.66306496 0.95098453 0.66470326]\n",
      "  [0.86188943 0.94395541 0.817324   0.98961553]\n",
      "  [0.65341575 0.81758581 0.47504604 0.83089614]\n",
      "  [0.35775782 0.65005826 0.71218467 0.16080596]]\n",
      "\n",
      " [[0.62277189 0.34361151 0.48790908 0.35394018]\n",
      "  [0.17797828 0.44955782 0.40605887 0.48714043]\n",
      "  [0.98879601 0.89429223 0.94529386 0.25247115]\n",
      "  [0.6694323  0.53530049 0.7614917  0.2552295 ]]\n",
      "\n",
      " [[0.9796827  0.52477475 0.63107423 0.20888793]\n",
      "  [0.15432531 0.43686297 0.01528331 0.78958835]\n",
      "  [0.2688331  0.3667379  0.24854772 0.56765475]\n",
      "  [0.23005344 0.32707397 0.62183062 0.48910341]]\n",
      "\n",
      " [[0.45172596 0.30126179 0.03282796 0.53956377]\n",
      "  [0.91912483 0.38867951 0.35052461 0.99585936]\n",
      "  [0.07486607 0.66956227 0.44271457 0.19979143]\n",
      "  [0.64875457 0.47698957 0.28310474 0.89484205]]]\n"
     ]
    }
   ],
   "source": [
    "import numpy as np\n",
    "x = np.random.random((4, 4, 4))\n",
    "print(x)"
   ]
  },
  {
   "cell_type": "markdown",
   "metadata": {},
   "source": [
    "# 12) Find the minimum and highest values in an 11x11 array you've created with random values.\n"
   ]
  },
  {
   "cell_type": "code",
   "execution_count": 40,
   "metadata": {},
   "outputs": [
    {
     "name": "stdout",
     "output_type": "stream",
     "text": [
      "Original Array:\n",
      "[[0.84425063 0.98151409 0.7495053  0.65063226 0.3848018  0.64377738\n",
      "  0.01206373 0.07478914 0.58783048 0.65098218 0.45610606]\n",
      " [0.16128103 0.4298479  0.62279025 0.55407466 0.74611169 0.9202379\n",
      "  0.70621628 0.1942074  0.12826283 0.7536915  0.76671917]\n",
      " [0.67954376 0.57907842 0.91619104 0.4691941  0.23205943 0.48947285\n",
      "  0.6325097  0.75284401 0.72114983 0.48015239 0.35734269]\n",
      " [0.12449569 0.71256159 0.52075003 0.13148921 0.79625017 0.47802378\n",
      "  0.56575856 0.76435147 0.32001264 0.26540918 0.11864103]\n",
      " [0.85769142 0.14981632 0.28801105 0.51207148 0.48653692 0.1603767\n",
      "  0.33888542 0.9345251  0.62942884 0.52906812 0.78384771]\n",
      " [0.06061576 0.55968927 0.00906152 0.71787764 0.16367968 0.06932282\n",
      "  0.81109036 0.17439521 0.00785682 0.76446936 0.56428584]\n",
      " [0.26600543 0.18309728 0.21604439 0.94311819 0.87704927 0.02918613\n",
      "  0.50930097 0.96594305 0.17499833 0.65843538 0.34107293]\n",
      " [0.30563795 0.63636147 0.56500257 0.611317   0.509725   0.46408601\n",
      "  0.77784675 0.24030006 0.12862724 0.05182432 0.32695429]\n",
      " [0.93714946 0.38906455 0.58035192 0.41627194 0.13497324 0.45545329\n",
      "  0.0696703  0.59761444 0.67356792 0.4544527  0.91609447]\n",
      " [0.20335194 0.96913221 0.74463823 0.48460264 0.78950603 0.31606105\n",
      "  0.00265026 0.34801003 0.08657893 0.75769986 0.62299179]\n",
      " [0.51696332 0.74004839 0.12457368 0.16479015 0.59775295 0.42282106\n",
      "  0.64965545 0.25816854 0.32656281 0.75214253 0.17659187]]\n",
      "Minimum and Maximum Values:\n",
      "0.0026502568030692952 0.9815140856088901\n"
     ]
    }
   ],
   "source": [
    "import numpy as np\n",
    "x = np.random.random((11,11))\n",
    "print(\"Original Array:\")\n",
    "print(x) \n",
    "xmin, xmax = x.min(), x.max()\n",
    "print(\"Minimum and Maximum Values:\")\n",
    "print(xmin, xmax)"
   ]
  },
  {
   "cell_type": "markdown",
   "metadata": {},
   "source": [
    "# 13)Obtain the mean value by creating a random vector of size 15."
   ]
  },
  {
   "cell_type": "code",
   "execution_count": 44,
   "metadata": {},
   "outputs": [
    {
     "name": "stdout",
     "output_type": "stream",
     "text": [
      "Original array:\n",
      "[0.54980693 0.36834158 0.32493649 0.93530521 0.36118776 0.44055814\n",
      " 0.17296668 0.17077447 0.54752305 0.48663735 0.14338025 0.62506413\n",
      " 0.00497057 0.1429703  0.93848012]\n",
      "The mean value for the vector: 4.428571428571429\n"
     ]
    }
   ],
   "source": [
    "import numpy as np\n",
    "import statistics\n",
    "x = np.random.random(15)\n",
    "y = statistics.mean(data1)\n",
    "print(\"Original array:\")\n",
    "print(x)\n",
    "print(\"The mean value for the vector:\",y)\n"
   ]
  },
  {
   "cell_type": "markdown",
   "metadata": {},
   "source": [
    "# 14)Make a 3D array with 1 inside and 0 outside. A 4x4 matrix with the numbers 4,3,2,1 should be created directly below the diagonal."
   ]
  },
  {
   "cell_type": "code",
   "execution_count": 2,
   "metadata": {},
   "outputs": [
    {
     "name": "stdout",
     "output_type": "stream",
     "text": [
      "Original array:\n",
      "[[[1. 1. 1. 1. 1.]\n",
      "  [1. 1. 1. 1. 1.]\n",
      "  [1. 1. 1. 1. 1.]\n",
      "  [1. 1. 1. 1. 1.]\n",
      "  [1. 1. 1. 1. 1.]]\n",
      "\n",
      " [[1. 1. 1. 1. 1.]\n",
      "  [1. 1. 1. 1. 1.]\n",
      "  [1. 1. 1. 1. 1.]\n",
      "  [1. 1. 1. 1. 1.]\n",
      "  [1. 1. 1. 1. 1.]]\n",
      "\n",
      " [[1. 1. 1. 1. 1.]\n",
      "  [1. 1. 1. 1. 1.]\n",
      "  [1. 1. 1. 1. 1.]\n",
      "  [1. 1. 1. 1. 1.]\n",
      "  [1. 1. 1. 1. 1.]]\n",
      "\n",
      " [[1. 1. 1. 1. 1.]\n",
      "  [1. 1. 1. 1. 1.]\n",
      "  [1. 1. 1. 1. 1.]\n",
      "  [1. 1. 1. 1. 1.]\n",
      "  [1. 1. 1. 1. 1.]]\n",
      "\n",
      " [[1. 1. 1. 1. 1.]\n",
      "  [1. 1. 1. 1. 1.]\n",
      "  [1. 1. 1. 1. 1.]\n",
      "  [1. 1. 1. 1. 1.]\n",
      "  [1. 1. 1. 1. 1.]]]\n",
      "1 on the border and 0 inside in the array\n",
      "[[[1. 1. 1. 1. 1.]\n",
      "  [1. 1. 1. 1. 1.]\n",
      "  [1. 1. 1. 1. 1.]\n",
      "  [1. 1. 1. 1. 1.]\n",
      "  [1. 1. 1. 1. 1.]]\n",
      "\n",
      " [[1. 1. 1. 1. 1.]\n",
      "  [0. 0. 0. 0. 0.]\n",
      "  [0. 0. 0. 0. 0.]\n",
      "  [0. 0. 0. 0. 0.]\n",
      "  [1. 1. 1. 1. 1.]]\n",
      "\n",
      " [[1. 1. 1. 1. 1.]\n",
      "  [0. 0. 0. 0. 0.]\n",
      "  [0. 0. 0. 0. 0.]\n",
      "  [0. 0. 0. 0. 0.]\n",
      "  [1. 1. 1. 1. 1.]]\n",
      "\n",
      " [[1. 1. 1. 1. 1.]\n",
      "  [0. 0. 0. 0. 0.]\n",
      "  [0. 0. 0. 0. 0.]\n",
      "  [0. 0. 0. 0. 0.]\n",
      "  [1. 1. 1. 1. 1.]]\n",
      "\n",
      " [[1. 1. 1. 1. 1.]\n",
      "  [1. 1. 1. 1. 1.]\n",
      "  [1. 1. 1. 1. 1.]\n",
      "  [1. 1. 1. 1. 1.]\n",
      "  [1. 1. 1. 1. 1.]]]\n"
     ]
    }
   ],
   "source": [
    "import numpy as np\n",
    "x = np.ones((5,5,5))\n",
    "print(\"Original array:\")\n",
    "print(x)\n",
    "print(\"1 on the border and 0 inside in the array\")\n",
    "x[1:-1,1:-1] = 0\n",
    "print(x)\n"
   ]
  },
  {
   "cell_type": "markdown",
   "metadata": {},
   "source": [
    "# 15) Make an 8x8 matrix and place a checkerboard pattern inside of it.\n"
   ]
  },
  {
   "cell_type": "code",
   "execution_count": 46,
   "metadata": {},
   "outputs": [
    {
     "name": "stdout",
     "output_type": "stream",
     "text": [
      "Checkerboard pattern:\n",
      "[[0 1 0 1 0 1 0 1]\n",
      " [1 0 1 0 1 0 1 0]\n",
      " [0 1 0 1 0 1 0 1]\n",
      " [1 0 1 0 1 0 1 0]\n",
      " [0 1 0 1 0 1 0 1]\n",
      " [1 0 1 0 1 0 1 0]\n",
      " [0 1 0 1 0 1 0 1]\n",
      " [1 0 1 0 1 0 1 0]]\n"
     ]
    }
   ],
   "source": [
    "import numpy as np\n",
    "x = np.ones((3,3))\n",
    "print(\"Checkerboard pattern:\")\n",
    "x = np.zeros((8,8),dtype=int)\n",
    "x[1::2,::2] = 1\n",
    "x[::2,1::2] = 1\n",
    "print(x)\n"
   ]
  },
  {
   "cell_type": "markdown",
   "metadata": {},
   "source": [
    "# 16) What is the (x,y,z) index of the 80th member in an array of shape (8,7,6)?"
   ]
  },
  {
   "cell_type": "code",
   "execution_count": 53,
   "metadata": {},
   "outputs": [
    {
     "name": "stdout",
     "output_type": "stream",
     "text": [
      "(1, 6, 2)\n"
     ]
    }
   ],
   "source": [
    "print(np.unravel_index(80,(8,7,6)))"
   ]
  },
  {
   "cell_type": "markdown",
   "metadata": {},
   "source": [
    "# 17)Add a 3x5 matrix to a 5x2 matrix (real matrix  product)\n"
   ]
  },
  {
   "cell_type": "code",
   "execution_count": 47,
   "metadata": {},
   "outputs": [
    {
     "name": "stdout",
     "output_type": "stream",
     "text": [
      "First array:\n",
      "[[0.88105503 0.39027046 0.77386378 0.16652849 0.05849301]\n",
      " [0.67528798 0.72018434 0.34585754 0.11854492 0.83049978]\n",
      " [0.54443109 0.51535129 0.04004568 0.08173583 0.9834245 ]]\n",
      "Second array:\n",
      "[[0.70742172 0.32270606]\n",
      " [0.69371596 0.52277615]\n",
      " [0.95073193 0.73131427]\n",
      " [0.96308605 0.31764034]\n",
      " [0.59483524 0.63158283]]\n",
      "Dot product of two arrays:\n",
      "[[1.82492629 1.14412287]\n",
      " [1.91431405 1.40952932]\n",
      " [1.4444167  1.12146719]]\n"
     ]
    }
   ],
   "source": [
    "import numpy as np\n",
    "x = np.random.random((3,5))\n",
    "print(\"First array:\")\n",
    "print(x)\n",
    "y = np.random.random((5,2))\n",
    "print(\"Second array:\")\n",
    "print(y)\n",
    "z = np.dot(x, y)\n",
    "print(\"Dot product of two arrays:\")\n",
    "print(z)\n"
   ]
  },
  {
   "cell_type": "markdown",
   "metadata": {},
   "source": [
    "# 18)In a 1D array, negate any element that falls between 8 and 5.\n"
   ]
  },
  {
   "cell_type": "code",
   "execution_count": 54,
   "metadata": {},
   "outputs": [
    {
     "name": "stdout",
     "output_type": "stream",
     "text": [
      "[ 1  2  3  4  5  6  7  8  9 10]\n"
     ]
    }
   ],
   "source": [
    "import numpy as np\n",
    "x = np.arange(1,11)\n",
    "print(x)\n",
    "\n"
   ]
  },
  {
   "cell_type": "markdown",
   "metadata": {},
   "source": [
    "# 19)# How can two arrays with similar values be found?How can I get today's, yesterday's, and tomorrow's dates?\n"
   ]
  },
  {
   "cell_type": "code",
   "execution_count": 55,
   "metadata": {},
   "outputs": [
    {
     "name": "stdout",
     "output_type": "stream",
     "text": [
      "Yesterday =  20-12-2022\n",
      "Today =  21-12-2022\n",
      "Tomorrow =  22-12-2022\n"
     ]
    }
   ],
   "source": [
    "# Python program to find yesterday,\n",
    "# today and tomorrow\n",
    "\n",
    "\n",
    "# Import datetime and timedelta\n",
    "# class from datetime module\n",
    "from datetime import datetime, timedelta\n",
    "\n",
    "\n",
    "# Get today's date\n",
    "presentday = datetime.now() # or presentday = datetime.today()\n",
    "\n",
    "# Get Yesterday\n",
    "yesterday = presentday - timedelta(1)\n",
    "\n",
    "# Get Tomorrow\n",
    "tomorrow = presentday + timedelta(1)\n",
    "\n",
    "\n",
    "# strftime() is to format date according to\n",
    "# the need by converting them to string\n",
    "print(\"Yesterday = \", yesterday.strftime('%d-%m-%Y'))\n",
    "print(\"Today = \", presentday.strftime('%d-%m-%Y'))\n",
    "print(\"Tomorrow = \", tomorrow.strftime('%d-%m-%Y'))\n"
   ]
  },
  {
   "cell_type": "markdown",
   "metadata": {},
   "source": [
    "# 20)Identify the integers in a positive random array of numbers.\n"
   ]
  },
  {
   "cell_type": "code",
   "execution_count": 15,
   "metadata": {},
   "outputs": [
    {
     "data": {
      "text/plain": [
       "array([0, 4, 3, 2, 3, 2, 1, 1, 2, 3])"
      ]
     },
     "execution_count": 15,
     "metadata": {},
     "output_type": "execute_result"
    }
   ],
   "source": [
    "np.random.randint(5,size=10)"
   ]
  },
  {
   "cell_type": "markdown",
   "metadata": {},
   "source": [
    "# 21)Make a 6x6 matrix with a row range of 0 to 5.\n"
   ]
  },
  {
   "cell_type": "code",
   "execution_count": 56,
   "metadata": {},
   "outputs": [
    {
     "name": "stdout",
     "output_type": "stream",
     "text": [
      "Original array:\n",
      "[[0. 0. 0. 0. 0. 0.]\n",
      " [0. 0. 0. 0. 0. 0.]\n",
      " [0. 0. 0. 0. 0. 0.]\n",
      " [0. 0. 0. 0. 0. 0.]\n",
      " [0. 0. 0. 0. 0. 0.]\n",
      " [0. 0. 0. 0. 0. 0.]]\n",
      "Row values ranging from 0 to 4.\n",
      "[[0. 1. 2. 3. 4. 5.]\n",
      " [0. 1. 2. 3. 4. 5.]\n",
      " [0. 1. 2. 3. 4. 5.]\n",
      " [0. 1. 2. 3. 4. 5.]\n",
      " [0. 1. 2. 3. 4. 5.]\n",
      " [0. 1. 2. 3. 4. 5.]]\n"
     ]
    }
   ],
   "source": [
    "import numpy as np\n",
    "x = np.zeros((6,6))\n",
    "print(\"Original array:\")\n",
    "print(x)\n",
    "print(\"Row values ranging from 0 to 4.\")\n",
    "x += np.arange(6)\n",
    "print(x)\n"
   ]
  },
  {
   "cell_type": "markdown",
   "metadata": {},
   "source": [
    "# 22)Check to see if the two random arrays, X and Y, are equal."
   ]
  },
  {
   "cell_type": "code",
   "execution_count": 12,
   "metadata": {},
   "outputs": [
    {
     "name": "stdout",
     "output_type": "stream",
     "text": [
      "Yes\n"
     ]
    }
   ],
   "source": [
    "def areEqual(arr1, arr2, N, M):\n",
    " \n",
    "    # If lengths of array are not\n",
    "    # equal means array are not equal\n",
    "    if (N != M):\n",
    "        return False\n",
    " \n",
    "    # Sort both arrays\n",
    "    arr1.sort()\n",
    "    arr2.sort()\n",
    " \n",
    "    # Linearly compare elements\n",
    "    for i in range(0, N):\n",
    "        if (arr1[i] != arr2[i]):\n",
    "            return False\n",
    " \n",
    "    # If all elements were same.\n",
    "    return True\n",
    "\n",
    "if __name__ == \"__main__\":\n",
    "    arr1 = [3, 5, 2, 5, 2]\n",
    "    arr2 = [2, 3, 5, 5, 2]\n",
    "    n = len(arr1)\n",
    "    m = len(arr2)\n",
    " \n",
    "    if (areEqual(arr1, arr2, n, m)):\n",
    "        print(\"Yes\")\n",
    "    else:\n",
    "        print(\"No\")"
   ]
  },
  {
   "cell_type": "markdown",
   "metadata": {},
   "source": [
    "# 23) Make a random vector of 15 bytes in size andchange the minimum value to -1.\n"
   ]
  },
  {
   "cell_type": "code",
   "execution_count": 17,
   "metadata": {},
   "outputs": [
    {
     "name": "stdout",
     "output_type": "stream",
     "text": [
      "Original array:\n",
      "[0.61843729 0.71246861 0.99554424 0.1377199  0.71170276 0.91972465\n",
      " 0.55134166 0.54565866 0.55573436 0.40390278 0.13918138 0.39638546\n",
      " 0.33982737 0.35040252 0.77107492]\n",
      "Minimum value replaced by -1:\n",
      "[ 0.61843729  0.71246861  0.99554424 -1.          0.71170276  0.91972465\n",
      "  0.55134166  0.54565866  0.55573436  0.40390278  0.13918138  0.39638546\n",
      "  0.33982737  0.35040252  0.77107492]\n"
     ]
    }
   ],
   "source": [
    "import numpy as np\n",
    "x = np.random.random(15)\n",
    "print(\"Original array:\")\n",
    "print(x)\n",
    "x[x.argmin()] = -1\n",
    "print(\"Minimum value replaced by -1:\")\n",
    "print(x)\n",
    "\n"
   ]
  },
  {
   "cell_type": "markdown",
   "metadata": {},
   "source": [
    "# 24) Print the smallest and largest value that each numpy scalar type can represent."
   ]
  },
  {
   "cell_type": "code",
   "execution_count": 22,
   "metadata": {},
   "outputs": [
    {
     "name": "stdout",
     "output_type": "stream",
     "text": [
      "-128\n",
      "127\n",
      "-2147483648\n",
      "2147483647\n",
      "-9223372036854775808\n",
      "9223372036854775807\n",
      "-3.4028235e+38\n",
      "3.4028235e+38\n",
      "1.1920929e-07\n",
      "-1.7976931348623157e+308\n",
      "1.7976931348623157e+308\n",
      "2.220446049250313e-16\n"
     ]
    }
   ],
   "source": [
    "for dtype in [np.int8, np.int32, np.int64]:\n",
    "    print(np.iinfo(dtype).min)\n",
    "    print(np.iinfo(dtype).max)\n",
    "for dtype in [np.float32, np.float64]:\n",
    "    print(np.finfo(dtype).min)\n",
    "    print(np.finfo(dtype).max)\n",
    "    print(np.finfo(dtype).eps)\n"
   ]
  },
  {
   "cell_type": "markdown",
   "metadata": {},
   "source": [
    "# 25.  How can I print an array's entire value set?"
   ]
  },
  {
   "cell_type": "code",
   "execution_count": 23,
   "metadata": {},
   "outputs": [
    {
     "name": "stdout",
     "output_type": "stream",
     "text": [
      "[   0    1    2 ...  998  999 1000]\n"
     ]
    }
   ],
   "source": [
    "import numpy as np\n",
    "arr = np.arange(1001)\n",
    "print(arr)\n"
   ]
  },
  {
   "cell_type": "markdown",
   "metadata": {},
   "source": [
    "# 26.  How can I instantly convert a 32-bit float array to a 32-bit integer array?\n"
   ]
  },
  {
   "cell_type": "code",
   "execution_count": 25,
   "metadata": {},
   "outputs": [
    {
     "name": "stdout",
     "output_type": "stream",
     "text": [
      "type: float\n",
      "converted value: 8 , type: int\n"
     ]
    }
   ],
   "source": [
    "# conversion from float to int\n",
    "\n",
    "num = 8.5\n",
    "\n",
    "# printing data type of 'num'\n",
    "print('type:',\n",
    "\ttype(num).__name__)\n",
    "\n",
    "# conversion to int\n",
    "num = int(num)\n",
    "\n",
    "# printing data type of 'num'\n",
    "print('converted value:', num,\n",
    "\t', type:', type(num).__name__)\n"
   ]
  },
  {
   "cell_type": "markdown",
   "metadata": {},
   "source": [
    "# 27.  Subtract the matrix's average for each row.\n"
   ]
  },
  {
   "cell_type": "code",
   "execution_count": 27,
   "metadata": {},
   "outputs": [
    {
     "name": "stdout",
     "output_type": "stream",
     "text": [
      "Original matrix:\n",
      "\n",
      "[[0.86552955 0.16581045 0.25358922]]\n",
      "\n",
      "Subtract the mean of each row of the said matrix:\n",
      "\n",
      "[[ 0.43721981 -0.26249929 -0.17472052]]\n"
     ]
    }
   ],
   "source": [
    "import numpy as np\n",
    "print(\"Original matrix:\\n\")\n",
    "X = np.random.rand(1,3)\n",
    "print(X)\n",
    "print(\"\\nSubtract the mean of each row of the said matrix:\\n\")\n",
    "Y = X - X.mean(axis=1, keepdims=True)\n",
    "print(Y)\n"
   ]
  },
  {
   "cell_type": "markdown",
   "metadata": {},
   "source": [
    "# 28.  How can an array be sorted by the nth column?\n",
    "\n"
   ]
  },
  {
   "cell_type": "code",
   "execution_count": 33,
   "metadata": {},
   "outputs": [
    {
     "name": "stdout",
     "output_type": "stream",
     "text": [
      "The input random array is:\n",
      "[[32 56 51 64]\n",
      " [81 14 67 66]\n",
      " [18 26 21 37]\n",
      " [47 88 27 95]]\n",
      "Sorting the input array by the 2 column:\n",
      "[[18 26 21 37]\n",
      " [47 88 27 95]\n",
      " [32 56 51 64]\n",
      " [81 14 67 66]]\n"
     ]
    }
   ],
   "source": [
    "import numpy as np\n",
    "inputArray = np.random.randint(0,100,(4,4))\n",
    "print(\"The input random array is:\")\n",
    "print(inputArray)\n",
    "n = 2\n",
    "print(\"Sorting the input array by the\",n,\"column:\")\n",
    "print(inputArray[inputArray[:,n].argsort()])\n"
   ]
  },
  {
   "cell_type": "markdown",
   "metadata": {},
   "source": [
    "# 29.  How can the sum of two arrays with the shapes (2,4) and (4,2) be calculated?\n",
    "\n"
   ]
  },
  {
   "cell_type": "code",
   "execution_count": 30,
   "metadata": {},
   "outputs": [
    {
     "name": "stdout",
     "output_type": "stream",
     "text": [
      "[[[2. 2. 2. 2.]\n",
      "  [2. 2. 2. 2.]]\n",
      "\n",
      " [[2. 2. 2. 2.]\n",
      "  [2. 2. 2. 2.]]\n",
      "\n",
      " [[2. 2. 2. 2.]\n",
      "  [2. 2. 2. 2.]]\n",
      "\n",
      " [[2. 2. 2. 2.]\n",
      "  [2. 2. 2. 2.]]]\n"
     ]
    }
   ],
   "source": [
    "A = np.ones((2,4))\n",
    "B = 2+np.zeros((4,2))\n",
    "c=A * B[:,:,None]\n",
    "print(c)\n",
    "\n"
   ]
  },
  {
   "cell_type": "markdown",
   "metadata": {},
   "source": [
    "# 30.  How can two columns in an array be switched?"
   ]
  },
  {
   "cell_type": "code",
   "execution_count": 32,
   "metadata": {},
   "outputs": [
    {
     "name": "stdout",
     "output_type": "stream",
     "text": [
      "Original array:\n",
      "[[ 0  1  2]\n",
      " [ 3  4  5]\n",
      " [ 6  7  8]\n",
      " [ 9 10 11]]\n",
      "After swapping arrays the last column and first column:\n",
      "[[ 2  1  0]\n",
      " [ 5  4  3]\n",
      " [ 8  7  6]\n",
      " [11 10  9]]\n"
     ]
    }
   ],
   "source": [
    "import numpy as np\n",
    "my_array = np.arange(12).reshape(4, 3)\n",
    "print(\"Original array:\")\n",
    "print(my_array)\n",
    "my_array[:, [2, 0]] = my_array[:, [0, 2]]\n",
    "print(\"After swapping arrays the last column and first column:\")\n",
    "print(my_array)\n"
   ]
  },
  {
   "cell_type": "code",
   "execution_count": null,
   "metadata": {},
   "outputs": [],
   "source": []
  }
 ],
 "metadata": {
  "kernelspec": {
   "display_name": "Python 3 (ipykernel)",
   "language": "python",
   "name": "python3"
  },
  "language_info": {
   "codemirror_mode": {
    "name": "ipython",
    "version": 3
   },
   "file_extension": ".py",
   "mimetype": "text/x-python",
   "name": "python",
   "nbconvert_exporter": "python",
   "pygments_lexer": "ipython3",
   "version": "3.9.12"
  }
 },
 "nbformat": 4,
 "nbformat_minor": 2
}
